{
 "cells": [
  {
   "cell_type": "markdown",
   "id": "d907be03",
   "metadata": {},
   "source": [
    "# <center> Generate data from realistic point sampling shapenet </center>"
   ]
  },
  {
   "cell_type": "markdown",
   "id": "e8d5f662",
   "metadata": {},
   "source": [
    "In this notebook we will generate training data for the Poisson Fourier Neural Operator Solver using the Shapenet dataset with more realistic point sampling"
   ]
  },
  {
   "cell_type": "markdown",
   "id": "3ab7fd7c",
   "metadata": {},
   "source": [
    "# Load libraries"
   ]
  },
  {
   "cell_type": "code",
   "execution_count": 17,
   "id": "11551ffe",
   "metadata": {},
   "outputs": [],
   "source": [
    "import torch\n",
    "import numpy as np\n",
    "import torch.nn as nn\n",
    "\n",
    "import torch.nn.functional as F\n",
    "\n",
    "import matplotlib.pyplot as plt\n",
    "from tqdm import tqdm\n",
    "from time import sleep"
   ]
  },
  {
   "cell_type": "code",
   "execution_count": 18,
   "id": "c99665ca",
   "metadata": {},
   "outputs": [],
   "source": [
    "import numpy as np\n",
    "import open3d as o3d\n",
    "import scipy\n",
    "import matplotlib.pyplot as plt\n",
    "from mpl_toolkits.mplot3d import Axes3D\n",
    "import odl\n",
    "import mcubes\n",
    "import binvox_rw\n",
    "from skimage import measure\n",
    "import trimesh"
   ]
  },
  {
   "cell_type": "code",
   "execution_count": 19,
   "id": "6d67afbd",
   "metadata": {},
   "outputs": [],
   "source": [
    "import sys\n",
    "import os"
   ]
  },
  {
   "cell_type": "code",
   "execution_count": 20,
   "id": "9f983e8e",
   "metadata": {},
   "outputs": [],
   "source": [
    "def generate_voxel_divergence_nonuniform(path, n_samples, sigma = 2, lowres = True):\n",
    "    with open(path, 'rb') as f:\n",
    "        voxels = (binvox_rw.read_as_3d_array(f).data.astype(int))\n",
    "    if lowres:\n",
    "        voxels = voxels[::2,::2,::2]\n",
    "        \n",
    "    verts, faces, normals, values = measure.marching_cubes(voxels, 0)\n",
    "\n",
    "    # Create the mesh\n",
    "    mesh = trimesh.base.Trimesh(verts, faces, None, normals)\n",
    "    # Sampling the points\n",
    "    sampled_points, sampled_indices = mesh.sample(n_samples, return_index = True)\n",
    "    # compute the barycentric coordinates of each sample\n",
    "    bary = trimesh.triangles.points_to_barycentric(triangles=mesh.triangles[sampled_indices], points=sampled_points)\n",
    "\n",
    "    # interpolate vertex normals from barycentric coordinates\n",
    "    sampled_normals = trimesh.unitize((mesh.vertex_normals[mesh.faces[sampled_indices]] \n",
    "                              *trimesh.unitize(bary).reshape((-1, 3, 1))).sum(axis=1))\n",
    "\n",
    "    grid_size = voxels.shape[0];\n",
    "    data = np.round(sampled_points)\n",
    "\n",
    "    field_V = np.zeros((grid_size, grid_size, grid_size, 3)) #Divergence of \\overrightarrow{V}\n",
    "    density_tensor_binary = np.zeros((grid_size, grid_size, grid_size)) # Density of points, so we can normalize\n",
    "    for i in range(data.shape[0]):\n",
    "        density_tensor_binary[round(data[i,0]), round(data[i,1]), round(data[i,2])] += 1\n",
    "\n",
    "    density_tensor = scipy.ndimage.filters.gaussian_filter(np.pad(density_tensor_binary,((5,), (5,), (5,))), sigma) #Smoothed density\n",
    "    for i in range(data.shape[0]): \n",
    "        field_V[round(data[i,0]), round(data[i,1]), round(data[i,2])] += sampled_normals[i] / density_tensor[round(data[i,0]) + 5, round(data[i,1]) + 5, round(data[i,2]) + 5]\n",
    "\n",
    "    divergence_tensor = np.zeros(field_V.shape[:3])\n",
    "    for i in range(3):\n",
    "        divergence_tensor += np.roll(field_V, 1, axis = i)[:,:,:,i] - field_V[:,:,:,i]\n",
    "    divergence_tensor = scipy.ndimage.filters.gaussian_filter(divergence_tensor,sigma)\n",
    "    return voxels, divergence_tensor"
   ]
  },
  {
   "cell_type": "markdown",
   "id": "938f450b",
   "metadata": {},
   "source": [
    "### Generate a lot of data"
   ]
  },
  {
   "cell_type": "code",
   "execution_count": 21,
   "id": "44d9bd5b",
   "metadata": {},
   "outputs": [
    {
     "name": "stderr",
     "output_type": "stream",
     "text": [
      "/tmp/ipykernel_16211/2200744233.py:2: VisibleDeprecationWarning: Creating an ndarray from ragged nested sequences (which is a list-or-tuple of lists-or-tuples-or ndarrays with different lengths or shapes) is deprecated. If you meant to do this, you must specify 'dtype=object' when creating the ndarray.\n",
      "  files_train = np.array(np.array([x for x in os.walk('/scratch/Data/Fourier_Neural_Data/Shapenet_FNO_nonuniform_train/')])[0][2])\n",
      "/tmp/ipykernel_16211/2200744233.py:3: VisibleDeprecationWarning: Creating an ndarray from ragged nested sequences (which is a list-or-tuple of lists-or-tuples-or ndarrays with different lengths or shapes) is deprecated. If you meant to do this, you must specify 'dtype=object' when creating the ndarray.\n",
      "  files_test = np.array(np.array([x for x in os.walk('/scratch/Data/Fourier_Neural_Data/Shapenet_FNO_nonuniform_test/')])[0][2])\n"
     ]
    }
   ],
   "source": [
    "root_path = '/scratch/Data/ShapeNetSem/models-binvox-solid/'\n",
    "files_train = np.array(np.array([x for x in os.walk('/scratch/Data/Fourier_Neural_Data/Shapenet_FNO_nonuniform_train/')])[0][2])\n",
    "files_test = np.array(np.array([x for x in os.walk('/scratch/Data/Fourier_Neural_Data/Shapenet_FNO_nonuniform_test/')])[0][2])\n"
   ]
  },
  {
   "cell_type": "code",
   "execution_count": 22,
   "id": "b71c37c9",
   "metadata": {},
   "outputs": [],
   "source": [
    "def export_sampled_divergence(root_path, output_path, files, n_samples, sigma, lowres = True):\n",
    "    # Creating output_path if it does not exists yet\n",
    "    if not os.path.exists(output_path):\n",
    "        os.makedirs(output_path)\n",
    "    for i in tqdm(range(len(files))):\n",
    "        sleep(3)\n",
    "        file = files[i]\n",
    "        file_path = root_path+file.replace('.npz','.binvox')\n",
    "        voxels, divergence_tensor = generate_voxel_divergence_nonuniform(file_path, n_samples, sigma, lowres)\n",
    "        np.savez(output_path+'/'+file.split('.')[0]+'.npz', voxels=voxels, divergence_tensor=divergence_tensor)"
   ]
  },
  {
   "cell_type": "code",
   "execution_count": 23,
   "id": "6829d9e4",
   "metadata": {},
   "outputs": [],
   "source": [
    "# root_path = '/scratch/Data/ShapeNetSem/models-binvox-solid/'\n",
    "# files = files_train\n",
    "# n_samples = 5000\n",
    "# sigma = 2\n",
    "# output_path = '/scratch/Data/Fourier_Neural_Data/Sparse2Dense/Shapenet_FNO_train_nsamples_'+str(n_samples)+'_sigma_'+str(sigma)\n",
    "\n",
    "# export_sampled_divergence(root_path, output_path, files, n_samples, sigma)"
   ]
  },
  {
   "cell_type": "code",
   "execution_count": 24,
   "id": "54790d98",
   "metadata": {},
   "outputs": [],
   "source": [
    "# root_path = '/scratch/Data/ShapeNetSem/models-binvox-solid/'\n",
    "# files = files_test\n",
    "# n_samples = 5000\n",
    "# sigma = 2\n",
    "# output_path = '/scratch/Data/Fourier_Neural_Data/Sparse2Dense/Shapenet_FNO_test_nsamples_'+str(n_samples)+'_sigma_'+str(sigma)\n",
    "\n",
    "# export_sampled_divergence(root_path, output_path, files, n_samples, sigma)"
   ]
  },
  {
   "cell_type": "code",
   "execution_count": 25,
   "id": "c5d46697",
   "metadata": {},
   "outputs": [],
   "source": [
    "# root_path = '/scratch/Data/ShapeNetSem/models-binvox-solid/'\n",
    "# files = files_train\n",
    "# n_samples = 10000\n",
    "# sigma = 1.5\n",
    "# output_path = '/scratch/Data/Fourier_Neural_Data/Sparse2Dense/Shapenet_FNO_train_nsamples_'+str(n_samples)+'_sigma_'+str(sigma)\n",
    "\n",
    "# export_sampled_divergence(root_path, output_path, files, n_samples, sigma)"
   ]
  },
  {
   "cell_type": "code",
   "execution_count": 27,
   "id": "9d8fc312",
   "metadata": {},
   "outputs": [],
   "source": [
    "# root_path = '/scratch/Data/ShapeNetSem/models-binvox-solid/'\n",
    "# files = files_test\n",
    "# n_samples = 10000\n",
    "# sigma = 1.5\n",
    "# output_path = '/scratch/Data/Fourier_Neural_Data/Sparse2Dense/Shapenet_FNO_test_nsamples_'+str(n_samples)+'_sigma_'+str(sigma)\n",
    "\n",
    "# export_sampled_divergence(root_path, output_path, files, n_samples, sigma)"
   ]
  },
  {
   "cell_type": "code",
   "execution_count": 28,
   "id": "9eb6a027",
   "metadata": {},
   "outputs": [
    {
     "name": "stderr",
     "output_type": "stream",
     "text": [
      "  0%|                                                                        | 0/936 [00:00<?, ?it/s]/tmp/ipykernel_16211/4269307353.py:28: DeprecationWarning: Please use `gaussian_filter` from the `scipy.ndimage` namespace, the `scipy.ndimage.filters` namespace is deprecated.\n",
      "  density_tensor = scipy.ndimage.filters.gaussian_filter(np.pad(density_tensor_binary,((5,), (5,), (5,))), sigma) #Smoothed density\n",
      "/tmp/ipykernel_16211/4269307353.py:35: DeprecationWarning: Please use `gaussian_filter` from the `scipy.ndimage` namespace, the `scipy.ndimage.filters` namespace is deprecated.\n",
      "  divergence_tensor = scipy.ndimage.filters.gaussian_filter(divergence_tensor,sigma)\n",
      "100%|██████████████████████████████████████████████████████████████| 936/936 [52:23<00:00,  3.36s/it]\n"
     ]
    }
   ],
   "source": [
    "root_path = '/scratch/Data/ShapeNetSem/models-binvox-solid/'\n",
    "files = files_train\n",
    "n_samples = 25000\n",
    "sigma = 1.0\n",
    "output_path = '/scratch/Data/Fourier_Neural_Data/Sparse2Dense/Shapenet_FNO_train_nsamples_'+str(n_samples)+'_sigma_'+str(sigma)\n",
    "\n",
    "export_sampled_divergence(root_path, output_path, files, n_samples, sigma)"
   ]
  },
  {
   "cell_type": "code",
   "execution_count": 29,
   "id": "2287856c",
   "metadata": {},
   "outputs": [],
   "source": [
    "# root_path = '/scratch/Data/ShapeNetSem/models-binvox-solid/'\n",
    "# files = files_test\n",
    "# n_samples = 25000\n",
    "# sigma = 1.0\n",
    "# output_path = '/scratch/Data/Fourier_Neural_Data/Sparse2Dense/Shapenet_FNO_test_nsamples_'+str(n_samples)+'_sigma_'+str(sigma)\n",
    "\n",
    "# export_sampled_divergence(root_path, output_path, files, n_samples, sigma)"
   ]
  },
  {
   "cell_type": "code",
   "execution_count": 30,
   "id": "c4ff72da",
   "metadata": {},
   "outputs": [
    {
     "name": "stderr",
     "output_type": "stream",
     "text": [
      "  0%|                                                                        | 0/936 [00:00<?, ?it/s]/tmp/ipykernel_16211/4269307353.py:28: DeprecationWarning: Please use `gaussian_filter` from the `scipy.ndimage` namespace, the `scipy.ndimage.filters` namespace is deprecated.\n",
      "  density_tensor = scipy.ndimage.filters.gaussian_filter(np.pad(density_tensor_binary,((5,), (5,), (5,))), sigma) #Smoothed density\n",
      "/tmp/ipykernel_16211/4269307353.py:35: DeprecationWarning: Please use `gaussian_filter` from the `scipy.ndimage` namespace, the `scipy.ndimage.filters` namespace is deprecated.\n",
      "  divergence_tensor = scipy.ndimage.filters.gaussian_filter(divergence_tensor,sigma)\n",
      "100%|██████████████████████████████████████████████████████████████| 936/936 [56:37<00:00,  3.63s/it]\n"
     ]
    }
   ],
   "source": [
    "root_path = '/scratch/Data/ShapeNetSem/models-binvox-solid/'\n",
    "files = files_train\n",
    "n_samples = 50000\n",
    "sigma = 0.7\n",
    "output_path = '/scratch/Data/Fourier_Neural_Data/Sparse2Dense/Shapenet_FNO_train_nsamples_'+str(n_samples)+'_sigma_'+str(sigma)\n",
    "\n",
    "export_sampled_divergence(root_path, output_path, files, n_samples, sigma)"
   ]
  },
  {
   "cell_type": "code",
   "execution_count": 31,
   "id": "f5b06912",
   "metadata": {},
   "outputs": [],
   "source": [
    "# root_path = '/scratch/Data/ShapeNetSem/models-binvox-solid/'\n",
    "# files = files_test\n",
    "# n_samples = 50000\n",
    "# sigma = 0.7\n",
    "# output_path = '/scratch/Data/Fourier_Neural_Data/Sparse2Dense/Shapenet_FNO_test_nsamples_'+str(n_samples)+'_sigma_'+str(sigma)\n",
    "\n",
    "# export_sampled_divergence(root_path, output_path, files, n_samples, sigma)"
   ]
  },
  {
   "cell_type": "code",
   "execution_count": 32,
   "id": "e78be02e",
   "metadata": {},
   "outputs": [
    {
     "name": "stderr",
     "output_type": "stream",
     "text": [
      "  0%|                                                                        | 0/936 [00:00<?, ?it/s]/tmp/ipykernel_16211/4269307353.py:28: DeprecationWarning: Please use `gaussian_filter` from the `scipy.ndimage` namespace, the `scipy.ndimage.filters` namespace is deprecated.\n",
      "  density_tensor = scipy.ndimage.filters.gaussian_filter(np.pad(density_tensor_binary,((5,), (5,), (5,))), sigma) #Smoothed density\n",
      "/tmp/ipykernel_16211/4269307353.py:35: DeprecationWarning: Please use `gaussian_filter` from the `scipy.ndimage` namespace, the `scipy.ndimage.filters` namespace is deprecated.\n",
      "  divergence_tensor = scipy.ndimage.filters.gaussian_filter(divergence_tensor,sigma)\n",
      "100%|████████████████████████████████████████████████████████████| 936/936 [1:04:44<00:00,  4.15s/it]\n"
     ]
    }
   ],
   "source": [
    "root_path = '/scratch/Data/ShapeNetSem/models-binvox-solid/'\n",
    "files = files_train\n",
    "n_samples = 100000\n",
    "sigma = 0.5\n",
    "output_path = '/scratch/Data/Fourier_Neural_Data/Sparse2Dense/Shapenet_FNO_train_nsamples_'+str(n_samples)+'_sigma_'+str(sigma)\n",
    "\n",
    "export_sampled_divergence(root_path, output_path, files, n_samples, sigma)"
   ]
  },
  {
   "cell_type": "code",
   "execution_count": null,
   "id": "03af75a0",
   "metadata": {},
   "outputs": [],
   "source": [
    "# root_path = '/scratch/Data/ShapeNetSem/models-binvox-solid/'\n",
    "# files = files_test\n",
    "# n_samples = 100000\n",
    "# sigma = 0.5\n",
    "# output_path = '/scratch/Data/Fourier_Neural_Data/Sparse2Dense/Shapenet_FNO_test_nsamples_'+str(n_samples)+'_sigma_'+str(sigma)\n",
    "\n",
    "# export_sampled_divergence(root_path, output_path, files, n_samples, sigma)"
   ]
  },
  {
   "cell_type": "markdown",
   "id": "48ac7da0",
   "metadata": {},
   "source": [
    "## Data generator"
   ]
  },
  {
   "cell_type": "code",
   "execution_count": 6,
   "id": "d7739a3a",
   "metadata": {},
   "outputs": [],
   "source": [
    "class ShapeNet_FNO_sparse2dense_DataLoader(object):\n",
    "    def __init__(self, root_path, n_samples, sigma, mode='train', batch_size = 20):\n",
    "        self.root_path = root_path\n",
    "        self.n_samples = n_samples\n",
    "        self.sigma = sigma\n",
    "        self.mode = 'train'\n",
    "        self.batch_size = batch_size\n",
    "        if mode == 'train':\n",
    "            self.data_path = self.root_path+'/Shapenet_FNO_train_nsamples_'+str(n_samples)+'_sigma_'+str(sigma)+'/'\n",
    "            self.files_name = np.array(np.array([x for x in \n",
    "                                                 os.walk(self.data_path)])[0][2])\n",
    "        else:\n",
    "            self.data_path = self.root_path+'/Shapenet_FNO_test_nsamples_'+str(n_samples)+'_sigma_'+str(sigma)+'/'\n",
    "            self.files_name = np.array(np.array([x for x in \n",
    "                                                 os.walk(self.data_path)])[0][2])\n",
    "    def generate_data(self):\n",
    "        voxels_batch = []\n",
    "        divergence_tensor_batch = []\n",
    "        for i in range(self.batch_size):\n",
    "            j = np.random.randint(len(self.files_name))\n",
    "            file_name = self.files_name[j]\n",
    "            voxels_divergence = np.load(self.data_path+file_name)\n",
    "            voxels = voxels_divergence['voxels']\n",
    "            divergence_tensor = voxels_divergence['divergence_tensor']\n",
    "            voxels_batch.append(voxels)\n",
    "            divergence_tensor_batch.append(divergence_tensor)\n",
    "        return np.array(voxels_batch), np.array(divergence_tensor_batch)"
   ]
  },
  {
   "cell_type": "code",
   "execution_count": 7,
   "id": "e6724938",
   "metadata": {},
   "outputs": [],
   "source": [
    "root_path = '/scratch/Data/Fourier_Neural_Data/Sparse2Dense/'\n",
    "batch_size = 20\n",
    "n_samples = 5000\n",
    "sigma = 2"
   ]
  },
  {
   "cell_type": "code",
   "execution_count": 8,
   "id": "64e1c09c",
   "metadata": {},
   "outputs": [
    {
     "name": "stderr",
     "output_type": "stream",
     "text": [
      "/tmp/ipykernel_16211/2392700855.py:10: VisibleDeprecationWarning: Creating an ndarray from ragged nested sequences (which is a list-or-tuple of lists-or-tuples-or ndarrays with different lengths or shapes) is deprecated. If you meant to do this, you must specify 'dtype=object' when creating the ndarray.\n",
      "  self.files_name = np.array(np.array([x for x in\n",
      "/tmp/ipykernel_16211/2392700855.py:14: VisibleDeprecationWarning: Creating an ndarray from ragged nested sequences (which is a list-or-tuple of lists-or-tuples-or ndarrays with different lengths or shapes) is deprecated. If you meant to do this, you must specify 'dtype=object' when creating the ndarray.\n",
      "  self.files_name = np.array(np.array([x for x in\n"
     ]
    }
   ],
   "source": [
    "loader_train = ShapeNet_FNO_sparse2dense_DataLoader(root_path, n_samples, sigma, 'train', batch_size)\n",
    "loader_test = ShapeNet_FNO_sparse2dense_DataLoader(root_path, n_samples, sigma, 'test', batch_size)"
   ]
  },
  {
   "cell_type": "code",
   "execution_count": 9,
   "id": "23931a1d",
   "metadata": {},
   "outputs": [],
   "source": [
    "import time"
   ]
  },
  {
   "cell_type": "code",
   "execution_count": 10,
   "id": "2d114c03",
   "metadata": {},
   "outputs": [
    {
     "name": "stdout",
     "output_type": "stream",
     "text": [
      "Ellapsed time  0.14026570320129395\n"
     ]
    }
   ],
   "source": [
    "t = time.time()\n",
    "voxels_batch, divergence_tensor_batch = loader_train.generate_data()\n",
    "print(\"Ellapsed time \", time.time()-t)"
   ]
  },
  {
   "cell_type": "code",
   "execution_count": 14,
   "id": "d83af680",
   "metadata": {},
   "outputs": [
    {
     "data": {
      "text/plain": [
       "<matplotlib.image.AxesImage at 0x7fc43b640130>"
      ]
     },
     "execution_count": 14,
     "metadata": {},
     "output_type": "execute_result"
    },
    {
     "data": {
      "image/png": "[encoded data removed]",
      "text/plain": [
       "<Figure size 640x480 with 1 Axes>"
      ]
     },
     "metadata": {},
     "output_type": "display_data"
    }
   ],
   "source": [
    "plt.imshow(voxels_batch[0,30])"
   ]
  },
  {
   "cell_type": "code",
   "execution_count": 15,
   "id": "777d261d",
   "metadata": {},
   "outputs": [
    {
     "data": {
      "text/plain": [
       "<matplotlib.image.AxesImage at 0x7fc43abc3790>"
      ]
     },
     "execution_count": 15,
     "metadata": {},
     "output_type": "execute_result"
    },
    {
     "data": {
      "image/png": "[encoded data removed]",
      "text/plain": [
       "<Figure size 640x480 with 1 Axes>"
      ]
     },
     "metadata": {},
     "output_type": "display_data"
    }
   ],
   "source": [
    "plt.imshow(divergence_tensor_batch[0,30], cmap='gray')"
   ]
  },
  {
   "cell_type": "code",
   "execution_count": null,
   "id": "d1c30fc5",
   "metadata": {},
   "outputs": [],
   "source": []
  }
 ],
 "metadata": {
  "kernelspec": {
   "display_name": "Python 3 (ipykernel)",
   "language": "python",
   "name": "python3"
  },
  "language_info": {
   "codemirror_mode": {
    "name": "ipython",
    "version": 3
   },
   "file_extension": ".py",
   "mimetype": "text/x-python",
   "name": "python",
   "nbconvert_exporter": "python",
   "pygments_lexer": "ipython3",
   "version": "3.9.13"
  }
 },
 "nbformat": 4,
 "nbformat_minor": 5
}
